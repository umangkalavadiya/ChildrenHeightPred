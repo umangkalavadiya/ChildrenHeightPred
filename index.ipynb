{
 "cells": [
  {
   "cell_type": "markdown",
   "id": "240ad4ae",
   "metadata": {},
   "source": [
    "# Predicting Height of Childrens - TASK"
   ]
  },
  {
   "cell_type": "code",
   "execution_count": 1,
   "id": "6c0503a9",
   "metadata": {},
   "outputs": [],
   "source": [
    "#importing necessary library and packages\n",
    "\n",
    "import torch\n",
    "import torch.nn as nn\n",
    "import torch.optim as optim\n",
    "from torch.utils.data import DataLoader, TensorDataset\n",
    "import pandas as pd\n",
    "import ast\n"
   ]
  },
  {
   "cell_type": "code",
   "execution_count": 2,
   "id": "977bbd9d",
   "metadata": {},
   "outputs": [],
   "source": [
    "\n",
    "# Reading the input file using pandas and extracting input features and height\n",
    "df = pd.read_excel('height_and_pose.xlsx')\n",
    "heights = df['Height(cm)'].to_list()\n",
    "in_features = df['Pose'].to_dict()\n"
   ]
  },
  {
   "cell_type": "code",
   "execution_count": 3,
   "id": "f64c5dda",
   "metadata": {},
   "outputs": [],
   "source": [
    "X_train = []\n",
    "for i in range(len(in_features)):\n",
    "    test = in_features[i]\n",
    "    temp_dict = ast.literal_eval(test)\n",
    "    store = []\n",
    "    store.append(temp_dict[0]['key_points_coordinate'][0]['nose']['y'])\n",
    "    store.append(temp_dict[0]['key_points_coordinate'][5]['left_shoulder']['y'])\n",
    "    store.append(temp_dict[0]['key_points_coordinate'][6]['right_shoulder']['y'])\n",
    "    store.append(temp_dict[0]['key_points_coordinate'][11]['left_hip']['y'])\n",
    "    store.append(temp_dict[0]['key_points_coordinate'][12]['right_hip']['y'])\n",
    "    store.append(temp_dict[0]['key_points_coordinate'][13]['left_knee']['y'])\n",
    "    store.append(temp_dict[0]['key_points_coordinate'][14]['right_knee']['y'])\n",
    "    store.append(temp_dict[0]['key_points_coordinate'][15]['left_ankle']['y'])\n",
    "    store.append(temp_dict[0]['key_points_coordinate'][16]['right_ankle']['y'])\n",
    "    X_train.append(store)\n"
   ]
  },
  {
   "cell_type": "code",
   "execution_count": 4,
   "id": "e205d475",
   "metadata": {},
   "outputs": [],
   "source": [
    "X_train = torch.Tensor(X_train)\n",
    "y_train = torch.Tensor(heights)"
   ]
  },
  {
   "cell_type": "code",
   "execution_count": 5,
   "id": "2bc531b3",
   "metadata": {},
   "outputs": [],
   "source": [
    "# Normalizing the input data\n",
    "mean = X_train.mean(dim=0)\n",
    "std = X_train.std(dim=0)\n",
    "X_train = (X_train - mean) / std"
   ]
  },
  {
   "cell_type": "code",
   "execution_count": 6,
   "id": "7a3cfea6",
   "metadata": {},
   "outputs": [],
   "source": [
    "# Creating a neural network with 4 layers (9 inputs, 32-64-32 hidden, 1 output)\n",
    "class NeuralNetwork(nn.Module):\n",
    "    def __init__(self):\n",
    "        super(NeuralNetwork, self).__init__()\n",
    "        \n",
    "        self.fc1 = nn.Linear(9, 32)\n",
    "        self.fc2 = nn.Linear(32, 64)\n",
    "        self.fc3 = nn.Linear(64, 32)\n",
    "        self.fc4 = nn.Linear(32, 1)\n",
    "        self.relu = nn.ReLU()\n",
    "        self.dropout = nn.Dropout(0.5)\n",
    "        \n",
    "    def forward(self, x):\n",
    "        x = self.relu(self.fc1(x))\n",
    "        x = self.dropout(x)\n",
    "        x = self.relu(self.fc2(x))\n",
    "        x = self.dropout(x)\n",
    "        x = self.relu(self.fc3(x))\n",
    "        x = self.fc4(x)\n",
    "        \n",
    "        return x\n",
    "\n",
    "model = NeuralNetwork()"
   ]
  },
  {
   "cell_type": "code",
   "execution_count": 7,
   "id": "a981eeff",
   "metadata": {},
   "outputs": [],
   "source": [
    "\n",
    "# Training the neural network\n",
    "criterion = nn.MSELoss()\n",
    "optimizer = optim.Adam(model.parameters(), lr=0.01, weight_decay=0.001)\n",
    "\n",
    "batch_size = 32\n",
    "dataset = TensorDataset(X_train, y_train)\n",
    "data_loader = DataLoader(dataset, batch_size=batch_size, shuffle=True)\n",
    "num_epochs = 500"
   ]
  },
  {
   "cell_type": "code",
   "execution_count": 8,
   "id": "fca692e5",
   "metadata": {},
   "outputs": [
    {
     "name": "stdout",
     "output_type": "stream",
     "text": [
      "Epoch [100/500], Loss: 464.0170\n",
      "Epoch [200/500], Loss: 883.8150\n",
      "Epoch [300/500], Loss: 472.9088\n",
      "Epoch [400/500], Loss: 168.9630\n",
      "Epoch [500/500], Loss: 41.1076\n"
     ]
    }
   ],
   "source": [
    "for epoch in range(num_epochs):\n",
    "    for i, (inputs, targets) in enumerate(data_loader):\n",
    "        \n",
    "        outputs = model(inputs)\n",
    "        loss = criterion(outputs, targets.unsqueeze(1))\n",
    "        \n",
    "        optimizer.zero_grad()\n",
    "        loss.backward()\n",
    "        optimizer.step()\n",
    "        \n",
    "    if (epoch+1) %100 == 0:\n",
    "        print('Epoch [{}/{}], Loss: {:.4f}'.format(epoch+1, num_epochs, loss.item()))"
   ]
  },
  {
   "cell_type": "code",
   "execution_count": 9,
   "id": "3b661e97",
   "metadata": {},
   "outputs": [
    {
     "name": "stdout",
     "output_type": "stream",
     "text": [
      "Child 1: Predicted Height = 72.83 cm\n",
      "Child 2: Predicted Height = 64.23 cm\n",
      "Child 3: Predicted Height = 65.75 cm\n",
      "Child 4: Predicted Height = 88.87 cm\n",
      "Child 5: Predicted Height = 63.97 cm\n",
      "Child 6: Predicted Height = 88.16 cm\n",
      "Child 7: Predicted Height = 96.06 cm\n",
      "Child 8: Predicted Height = 90.60 cm\n",
      "Child 9: Predicted Height = 95.39 cm\n"
     ]
    }
   ],
   "source": [
    "# Set the model to evaluation mode\n",
    "model.eval()\n",
    "\n",
    "# Generate predictions for the input data\n",
    "with torch.no_grad():\n",
    "    predictions = model(X_train)\n",
    "\n",
    "# Print the predicted height of each child in the training dataset\n",
    "for i in range(len(predictions)):\n",
    "    print(\"Child {}: Predicted Height = {:.2f} cm\".format(i+1, predictions[i].item()))\n",
    "\n",
    "\n"
   ]
  }
 ],
 "metadata": {
  "kernelspec": {
   "display_name": "Python 3 (ipykernel)",
   "language": "python",
   "name": "python3"
  },
  "language_info": {
   "codemirror_mode": {
    "name": "ipython",
    "version": 3
   },
   "file_extension": ".py",
   "mimetype": "text/x-python",
   "name": "python",
   "nbconvert_exporter": "python",
   "pygments_lexer": "ipython3",
   "version": "3.9.12"
  }
 },
 "nbformat": 4,
 "nbformat_minor": 5
}
